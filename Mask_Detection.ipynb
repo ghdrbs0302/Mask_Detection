{
  "nbformat": 4,
  "nbformat_minor": 0,
  "metadata": {
    "colab": {
      "name": "Untitled22.ipynb",
      "provenance": []
    },
    "kernelspec": {
      "name": "python3",
      "display_name": "Python 3"
    },
    "language_info": {
      "name": "python"
    },
    "accelerator": "GPU"
  },
  "cells": [
    {
      "cell_type": "markdown",
      "metadata": {
        "id": "rr5-OLMTHIdE"
      },
      "source": [
        "# Mask Detection (마스크 착용 여부 인식)\n",
        "코로나바이러스의 전파경로는 비말과 콧물, 가래 등의 호흡기 분비물로 알려져 있어 마스크 착용이 감염 예방에 매우 중요하다.\n",
        "건물 출입 시 마스크 착용 여부를 사람이 일일이 눈으로 확인하는 것은 인력과 비용을 발생시킬 수 있으므로 비효율적이다. 마스크 착용 여부를 판별할 수 있는 프로그램을 통해 효율적인 출입 통제를 할 수 있다."
      ]
    },
    {
      "cell_type": "code",
      "metadata": {
        "id": "j2L-3oMmCkFR"
      },
      "source": [
        "# colab 런타임 끊김 방지\n",
        "# F12 눌러서 consolo에 아래 내용 복붙하기\n",
        "# (주석처리 했으니 'Ctrl'+'/' 눌러서 주석처리 없애서 복붙하기)\n",
        "\n",
        "\n",
        "# function ClickConnect(){\n",
        "#     console.log(\"코랩 연결 끊김 방지\"); \n",
        "#     document.querySelector(\"colab-toolbar-button#connect\").click() \n",
        "# }\n",
        "# setInterval(ClickConnect, 60 * 1000)"
      ],
      "execution_count": null,
      "outputs": []
    },
    {
      "cell_type": "markdown",
      "metadata": {
        "id": "GGR6tzGTKGzo"
      },
      "source": [
        "Load file\n"
      ]
    },
    {
      "cell_type": "code",
      "metadata": {
        "colab": {
          "base_uri": "https://localhost:8080/"
        },
        "id": "XRVQznKDDB0c",
        "outputId": "47fbf9ea-04e6-4407-c83c-3835025140df"
      },
      "source": [
        "!git clone https://github.com/ghdrbs0302/Mask_Detection"
      ],
      "execution_count": 1,
      "outputs": [
        {
          "output_type": "stream",
          "text": [
            "Cloning into 'Mask_Detection'...\n",
            "remote: Enumerating objects: 3764, done.\u001b[K\n",
            "remote: Counting objects: 100% (3764/3764), done.\u001b[K\n",
            "remote: Compressing objects: 100% (3762/3762), done.\u001b[K\n",
            "remote: Total 3764 (delta 0), reused 3761 (delta 0), pack-reused 0\u001b[K\n",
            "Receiving objects: 100% (3764/3764), 143.05 MiB | 33.04 MiB/s, done.\n"
          ],
          "name": "stdout"
        }
      ]
    },
    {
      "cell_type": "code",
      "metadata": {
        "colab": {
          "base_uri": "https://localhost:8080/",
          "height": 34
        },
        "id": "C5ZNY_y4DKzR",
        "outputId": "80b76330-38fb-4cd1-e748-ab78b68ddbb0"
      },
      "source": [
        "pwd"
      ],
      "execution_count": 2,
      "outputs": [
        {
          "output_type": "execute_result",
          "data": {
            "application/vnd.google.colaboratory.intrinsic+json": {
              "type": "string"
            },
            "text/plain": [
              "'/content'"
            ]
          },
          "metadata": {
            "tags": []
          },
          "execution_count": 2
        }
      ]
    },
    {
      "cell_type": "code",
      "metadata": {
        "colab": {
          "base_uri": "https://localhost:8080/",
          "height": 1000
        },
        "id": "LSoXmqODDQ0u",
        "outputId": "deefa632-880a-4945-8bc4-2cef8a353c52"
      },
      "source": [
        "# import the necessary packages\n",
        "import pandas as pd\n",
        "import numpy as np\n",
        "import os\n",
        "import matplotlib.pyplot as plt\n",
        "\n",
        "from tensorflow.keras.preprocessing.image import ImageDataGenerator\n",
        "from tensorflow.keras.applications import MobileNetV2\n",
        "from tensorflow.keras.layers import AveragePooling2D #딥러닝 학습\n",
        "from tensorflow.keras.layers import Dropout #딥러닝 학습\n",
        "from tensorflow.keras.layers import Flatten #딥러닝 학습\n",
        "from tensorflow.keras.layers import Dense #딥러닝 학습\n",
        "from tensorflow.keras.layers import Input\n",
        "from tensorflow.keras.models import Model #딥러닝 학습\n",
        "from tensorflow.keras.optimizers import Adam #딥러닝 학습\n",
        "from tensorflow.keras.applications.mobilenet_v2 import preprocess_input\n",
        "from tensorflow.keras.preprocessing.image import img_to_array\n",
        "from tensorflow.keras.preprocessing.image import load_img\n",
        "from tensorflow.keras.utils import to_categorical\n",
        "from sklearn.preprocessing import LabelBinarizer #마스크 착용 유무를 분류하기\n",
        "from sklearn.model_selection import train_test_split \n",
        "from sklearn.metrics import classification_report\n",
        "from imutils import paths\n",
        "\n",
        "\n",
        "\n",
        "\n",
        "INIT_LR = 1e-4 #initial learning rate\n",
        "EPOCHS = 20 #더 이상 올려도 성능에는 영향이 없음.\n",
        "BS = 32 #batch_size 줄임말\n",
        "\n",
        "#colab으로 실행했음.\n",
        "#colab에서 실행 시에 구글드라이브에 폴더를 올려서 경로 확인 잘하고 실행할 것!\n",
        "DIRECTORY = r\"/content/Mask_Detection/dataset\" #실행 시 경로 수정해야함! \n",
        "CATEGORIES = [\"with_mask\", \"without_mask\"] \n",
        "\n",
        "# 데이터셋에 있는 이미지 불러와서 라벨링 해주기.\n",
        "print(\"loading images...\")\n",
        "#각각의 이미지 불러오면 data,labels에 지정해두기\n",
        "data = []\n",
        "labels = []\n",
        "\n",
        "for category in CATEGORIES:\n",
        "    path = os.path.join(DIRECTORY, category)\n",
        "    for img in os.listdir(path):\n",
        "    \timg_path = os.path.join(path, img)\n",
        "    \timage = load_img(img_path, target_size=(224, 224)) \n",
        "    \timage = img_to_array(image)\n",
        "    \timage = preprocess_input(image)\n",
        "\n",
        "    \tdata.append(image) #각각의 이미지가 들어오면 data에 append로 추가해주기.\n",
        "    \tlabels.append(category) #각각의 이미지가 들어오면 labels에 append로 추가해주기\n",
        "\n",
        "\n",
        "# 마스크 착용 유무를 labels에 one-hot 인코딩 해주기\n",
        "lb = LabelBinarizer()\n",
        "labels = lb.fit_transform(labels)\n",
        "labels = to_categorical(labels)\n",
        "\n",
        "data = np.array(data, dtype=\"float32\") # data에 저장되는 one-hot 인코딩 된 값을 정수로 변환\n",
        "labels = np.array(labels)\n",
        "\n",
        "(trainX, testX, trainY, testY) = train_test_split(data, labels,\n",
        "\ttest_size=0.20, stratify=labels, random_state=42) # 모델링하기 위한 데이터 셋 분리하기\n",
        "\n",
        "# construct the training image generator for data augmentation\n",
        "aug = ImageDataGenerator(\n",
        "\trotation_range=20,\n",
        "\tzoom_range=0.15,\n",
        "\twidth_shift_range=0.2,\n",
        "\theight_shift_range=0.2,\n",
        "\tshear_range=0.15,\n",
        "\thorizontal_flip=True,\n",
        "\tfill_mode=\"nearest\")\n",
        "\n",
        "# MobileNetV2 network (경량화 네트워크할 때 좋다고 함)\n",
        "# Fully Connectec Layer (이미지 분류/설명하는 데 가장 적합하게 예측한다고 함)\n",
        "baseModel = MobileNetV2(weights=\"imagenet\", include_top=False,\n",
        "\tinput_tensor=Input(shape=(224, 224, 3)))\n",
        "\n",
        "\n",
        "# base model\n",
        "headModel = baseModel.output\n",
        "headModel = AveragePooling2D(pool_size=(7, 7))(headModel)\n",
        "headModel = Flatten(name=\"flatten\")(headModel)\n",
        "headModel = Dense(128, activation=\"relu\")(headModel)\n",
        "headModel = Dropout(0.5)(headModel)\n",
        "headModel = Dense(2, activation=\"softmax\")(headModel) # 결과값은 2개만 나오면 됨  'Mask' or 'Nomask'\n",
        "\n",
        "\n",
        "\n",
        "model = Model(inputs=baseModel.input, outputs=headModel)\n",
        "\n",
        "\n",
        "for layer in baseModel.layers:\n",
        "\tlayer.trainable = False\n",
        "\n",
        "# 모델 컴파일\n",
        "opt = Adam(lr=INIT_LR, decay=INIT_LR / EPOCHS)\n",
        "model.compile(loss=\"binary_crossentropy\", optimizer=opt,\n",
        "\tmetrics=[\"accuracy\"])\n",
        "\n",
        "# network 학습\n",
        "print(\"Model training...\")\n",
        "H = model.fit(\n",
        "\taug.flow(trainX, trainY, batch_size=BS),\n",
        "\tsteps_per_epoch=len(trainX) // BS,\n",
        "\tvalidation_data=(testX, testY),\n",
        "\tvalidation_steps=len(testX) // BS,\n",
        "\tepochs=EPOCHS)\n",
        "\n",
        "# test 셋 predict 만들기\n",
        "print(\"evaluating network...\")\n",
        "predIdxs = model.predict(testX, batch_size=BS)\n",
        "\n",
        "# test set에서 각 이미지에 해당하는 가장 큰 predict 확률 가진 레이블 찾기\n",
        "predIdxs = np.argmax(predIdxs, axis=1)\n",
        "\n",
        "# 잘 분류한 모델 출력\n",
        "print(classification_report(testY.argmax(axis=1), predIdxs,\n",
        "\ttarget_names=lb.classes_))\n",
        "\n",
        "\n",
        "print(\"saving mask detector model...\")\n",
        "model.save(\"mask_detector.model\", save_format=\"h5\")\n",
        "\n",
        "# training loss and accuracy 출력\n",
        "N = EPOCHS\n",
        "plt.style.use(\"ggplot\")\n",
        "plt.figure()\n",
        "plt.plot(np.arange(0, N), H.history[\"loss\"], label=\"train_loss\")\n",
        "plt.plot(np.arange(0, N), H.history[\"val_loss\"], label=\"val_loss\")\n",
        "plt.plot(np.arange(0, N), H.history[\"accuracy\"], label=\"train_acc\")\n",
        "plt.plot(np.arange(0, N), H.history[\"val_accuracy\"], label=\"val_acc\")\n",
        "plt.title(\"Training Loss and Accuracy\")\n",
        "plt.xlabel(\"Epoch #\")\n",
        "plt.ylabel(\"Loss/Accuracy\")\n",
        "plt.legend(loc=\"lower left\")\n",
        "plt.savefig(\"plot.png\")"
      ],
      "execution_count": 4,
      "outputs": [
        {
          "output_type": "stream",
          "text": [
            "loading images...\n"
          ],
          "name": "stdout"
        },
        {
          "output_type": "stream",
          "text": [
            "/usr/local/lib/python3.7/dist-packages/PIL/Image.py:960: UserWarning: Palette images with Transparency expressed in bytes should be converted to RGBA images\n",
            "  \"Palette images with Transparency expressed in bytes should be \"\n"
          ],
          "name": "stderr"
        },
        {
          "output_type": "stream",
          "text": [
            "WARNING:tensorflow:`input_shape` is undefined or non-square, or `rows` is not in [96, 128, 160, 192, 224]. Weights for input shape (224, 224) will be loaded as the default.\n"
          ],
          "name": "stdout"
        },
        {
          "output_type": "stream",
          "text": [
            "/usr/local/lib/python3.7/dist-packages/tensorflow/python/keras/optimizer_v2/optimizer_v2.py:375: UserWarning: The `lr` argument is deprecated, use `learning_rate` instead.\n",
            "  \"The `lr` argument is deprecated, use `learning_rate` instead.\")\n"
          ],
          "name": "stderr"
        },
        {
          "output_type": "stream",
          "text": [
            "Model training...\n",
            "Epoch 1/20\n",
            "95/95 [==============================] - 37s 369ms/step - loss: 0.3924 - accuracy: 0.8635 - val_loss: 0.1571 - val_accuracy: 0.9713\n",
            "Epoch 2/20\n",
            "95/95 [==============================] - 31s 331ms/step - loss: 0.1472 - accuracy: 0.9670 - val_loss: 0.0902 - val_accuracy: 0.9791\n",
            "Epoch 3/20\n",
            "95/95 [==============================] - 33s 351ms/step - loss: 0.0993 - accuracy: 0.9759 - val_loss: 0.0724 - val_accuracy: 0.9752\n",
            "Epoch 4/20\n",
            "95/95 [==============================] - 34s 353ms/step - loss: 0.0788 - accuracy: 0.9796 - val_loss: 0.0634 - val_accuracy: 0.9752\n",
            "Epoch 5/20\n",
            "95/95 [==============================] - 32s 336ms/step - loss: 0.0628 - accuracy: 0.9819 - val_loss: 0.0555 - val_accuracy: 0.9804\n",
            "Epoch 6/20\n",
            "95/95 [==============================] - 32s 340ms/step - loss: 0.0562 - accuracy: 0.9822 - val_loss: 0.0539 - val_accuracy: 0.9791\n",
            "Epoch 7/20\n",
            "95/95 [==============================] - 33s 343ms/step - loss: 0.0455 - accuracy: 0.9885 - val_loss: 0.0454 - val_accuracy: 0.9817\n",
            "Epoch 8/20\n",
            "95/95 [==============================] - 32s 336ms/step - loss: 0.0446 - accuracy: 0.9868 - val_loss: 0.0490 - val_accuracy: 0.9765\n",
            "Epoch 9/20\n",
            "95/95 [==============================] - 33s 348ms/step - loss: 0.0497 - accuracy: 0.9858 - val_loss: 0.0417 - val_accuracy: 0.9831\n",
            "Epoch 10/20\n",
            "95/95 [==============================] - 32s 335ms/step - loss: 0.0413 - accuracy: 0.9898 - val_loss: 0.0431 - val_accuracy: 0.9804\n",
            "Epoch 11/20\n",
            "95/95 [==============================] - 34s 353ms/step - loss: 0.0350 - accuracy: 0.9881 - val_loss: 0.0391 - val_accuracy: 0.9831\n",
            "Epoch 12/20\n",
            "95/95 [==============================] - 34s 354ms/step - loss: 0.0336 - accuracy: 0.9891 - val_loss: 0.0421 - val_accuracy: 0.9791\n",
            "Epoch 13/20\n",
            "95/95 [==============================] - 32s 340ms/step - loss: 0.0297 - accuracy: 0.9904 - val_loss: 0.0371 - val_accuracy: 0.9831\n",
            "Epoch 14/20\n",
            "95/95 [==============================] - 33s 346ms/step - loss: 0.0299 - accuracy: 0.9908 - val_loss: 0.0404 - val_accuracy: 0.9791\n",
            "Epoch 15/20\n",
            "95/95 [==============================] - 33s 349ms/step - loss: 0.0299 - accuracy: 0.9898 - val_loss: 0.0348 - val_accuracy: 0.9817\n",
            "Epoch 16/20\n",
            "95/95 [==============================] - 33s 342ms/step - loss: 0.0245 - accuracy: 0.9911 - val_loss: 0.0294 - val_accuracy: 0.9883\n",
            "Epoch 17/20\n",
            "95/95 [==============================] - 33s 350ms/step - loss: 0.0299 - accuracy: 0.9921 - val_loss: 0.0347 - val_accuracy: 0.9831\n",
            "Epoch 18/20\n",
            "95/95 [==============================] - 32s 340ms/step - loss: 0.0307 - accuracy: 0.9901 - val_loss: 0.0350 - val_accuracy: 0.9831\n",
            "Epoch 19/20\n",
            "95/95 [==============================] - 33s 351ms/step - loss: 0.0252 - accuracy: 0.9921 - val_loss: 0.0387 - val_accuracy: 0.9831\n",
            "Epoch 20/20\n",
            "95/95 [==============================] - 33s 342ms/step - loss: 0.0263 - accuracy: 0.9918 - val_loss: 0.0376 - val_accuracy: 0.9831\n",
            "evaluating network...\n",
            "              precision    recall  f1-score   support\n",
            "\n",
            "   with_mask       0.97      1.00      0.98       383\n",
            "without_mask       1.00      0.97      0.98       384\n",
            "\n",
            "    accuracy                           0.98       767\n",
            "   macro avg       0.98      0.98      0.98       767\n",
            "weighted avg       0.98      0.98      0.98       767\n",
            "\n",
            "saving mask detector model...\n"
          ],
          "name": "stdout"
        },
        {
          "output_type": "stream",
          "text": [
            "/usr/local/lib/python3.7/dist-packages/tensorflow/python/keras/utils/generic_utils.py:497: CustomMaskWarning: Custom mask layers require a config and must override get_config. When loading, the custom mask layer must be passed to the custom_objects argument.\n",
            "  category=CustomMaskWarning)\n"
          ],
          "name": "stderr"
        },
        {
          "output_type": "display_data",
          "data": {
            "image/png": "[encoded data removed]",
            "text/plain": [
              "<Figure size 432x288 with 1 Axes>"
            ]
          },
          "metadata": {
            "tags": []
          }
        }
      ]
    }
  ]
}